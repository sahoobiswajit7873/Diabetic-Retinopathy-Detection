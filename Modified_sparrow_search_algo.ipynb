{
 "cells": [
  {
   "cell_type": "code",
   "execution_count": 1,
   "id": "9419e42d",
   "metadata": {},
   "outputs": [
    {
     "name": "stdout",
     "output_type": "stream",
     "text": [
      "0.0006606379518707683\n"
     ]
    }
   ],
   "source": [
    "import random\n",
    "\n",
    "class Sparrow:\n",
    "    def __init__(self, position):\n",
    "        self.position = position\n",
    "        self.fitness = None\n",
    "\n",
    "    def evaluate(self, objective_function):\n",
    "        self.fitness = objective_function(self.position)\n",
    "\n",
    "class SSA:\n",
    "    def __init__(self, objective_function, population_size, max_iterations):\n",
    "        self.objective_function = objective_function\n",
    "        self.population_size = population_size\n",
    "        self.max_iterations = max_iterations\n",
    "\n",
    "        # Initialize the population\n",
    "        self.population = []\n",
    "        for i in range(population_size):\n",
    "            position = random.uniform(-1, 1)\n",
    "            self.population.append(Sparrow(position))\n",
    "\n",
    "    def run(self):\n",
    "        for iteration in range(self.max_iterations):\n",
    "\n",
    "            # Evaluate the fitness of each sparrow\n",
    "            for sparrow in self.population:\n",
    "                sparrow.evaluate(self.objective_function)\n",
    "\n",
    "            # Sort the sparrows by fitness\n",
    "            self.population.sort(key=lambda sparrow: sparrow.fitness)\n",
    "\n",
    "            # Update the positions of the sparrows\n",
    "            for i in range(self.population_size):\n",
    "                # Producers\n",
    "                if i < self.population_size // 2:\n",
    "                    self.population[i].position += self.population[i].position + random.uniform(0, 1) * (self.population[0].position - self.population[i].position)\n",
    "                # Scroungers\n",
    "                else:\n",
    "                    self.population[i].position += random.uniform(-1, 1) * (self.population[random.randint(0, self.population_size // 2)].position - self.population[i].position)\n",
    "\n",
    "            # Check for convergence\n",
    "            if self.population[0].fitness < 1e-6:\n",
    "                break\n",
    "\n",
    "        return self.population[0].position\n",
    "\n",
    "def objective_function(x):\n",
    "    return x**2\n",
    "\n",
    "# Example usage:\n",
    "ssa = SSA(objective_function, 100, 1000)\n",
    "best_position = ssa.run()\n",
    "print(best_position)"
   ]
  },
  {
   "cell_type": "code",
   "execution_count": null,
   "id": "a34c88d9",
   "metadata": {},
   "outputs": [],
   "source": []
  }
 ],
 "metadata": {
  "kernelspec": {
   "display_name": "Python 3 (ipykernel)",
   "language": "python",
   "name": "python3"
  },
  "language_info": {
   "codemirror_mode": {
    "name": "ipython",
    "version": 3
   },
   "file_extension": ".py",
   "mimetype": "text/x-python",
   "name": "python",
   "nbconvert_exporter": "python",
   "pygments_lexer": "ipython3",
   "version": "3.11.5"
  }
 },
 "nbformat": 4,
 "nbformat_minor": 5
}
